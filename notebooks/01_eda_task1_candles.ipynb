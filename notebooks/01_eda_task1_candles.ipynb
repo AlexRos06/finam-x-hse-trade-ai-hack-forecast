{
  "cells": [
    {
      "cell_type": "markdown",
      "metadata": {},
      "source": [
        "# 📊 Первичная аналитика: task_1_candles.csv\n",
        "\n",
        "Этот ноутбук содержит первичную аналитику данных о свечах (OHLCV) для быстрого онбординга.\n"
      ]
    },
    {
      "cell_type": "code",
      "execution_count": null,
      "metadata": {},
      "outputs": [],
      "source": [
        "import pandas as pd\n",
        "import numpy as np\n",
        "import matplotlib.pyplot as plt\n",
        "import seaborn as sns\n",
        "from datetime import datetime\n",
        "import warnings\n",
        "\n",
        "warnings.filterwarnings('ignore')\n",
        "\n",
        "# Настройка стиля графиков\n",
        "plt.style.use('seaborn-v0_8-darkgrid')\n",
        "sns.set_palette(\"husl\")\n",
        "plt.rcParams['figure.figsize'] = (14, 6)\n",
        "plt.rcParams['font.size'] = 10\n"
      ]
    },
    {
      "cell_type": "markdown",
      "metadata": {},
      "source": [
        "## 1. Загрузка данных\n"
      ]
    },
    {
      "cell_type": "code",
      "execution_count": null,
      "metadata": {},
      "outputs": [],
      "source": [
        "# Загрузка данных\n",
        "df = pd.read_csv('../data/raw/task_1_candles.csv')\n",
        "\n",
        "# Конвертация даты\n",
        "df['begin'] = pd.to_datetime(df['begin'])\n",
        "\n",
        "# Сортировка\n",
        "df = df.sort_values(['ticker', 'begin']).reset_index(drop=True)\n",
        "\n",
        "print(f\"Размер датасета: {df.shape}\")\n",
        "print(f\"Период: {df['begin'].min()} - {df['begin'].max()}\")\n",
        "df.head(10)\n"
      ]
    },
    {
      "cell_type": "markdown",
      "metadata": {},
      "source": [
        "## 2. Общая информация о данных\n"
      ]
    },
    {
      "cell_type": "code",
      "execution_count": null,
      "metadata": {},
      "outputs": [],
      "source": [
        "# Информация о типах данных\n",
        "print(\"=== Типы данных ===\")\n",
        "print(df.dtypes)\n",
        "print(\"\\n=== Пропущенные значения ===\")\n",
        "print(df.isnull().sum())\n",
        "print(\"\\n=== Базовая статистика ===\")\n",
        "df.describe()\n"
      ]
    },
    {
      "cell_type": "markdown",
      "metadata": {},
      "source": [
        "## 3. Анализ тикеров\n"
      ]
    },
    {
      "cell_type": "code",
      "execution_count": null,
      "metadata": {},
      "outputs": [],
      "source": [
        "# Список тикеров\n",
        "tickers = df['ticker'].unique()\n",
        "print(f\"Количество уникальных тикеров: {len(tickers)}\")\n",
        "print(f\"\\nТикеры: {sorted(tickers)}\")\n"
      ]
    },
    {
      "cell_type": "code",
      "execution_count": null,
      "metadata": {},
      "outputs": [],
      "source": [
        "# Количество записей по каждому тикеру\n",
        "ticker_counts = df['ticker'].value_counts().sort_index()\n",
        "\n",
        "fig, axes = plt.subplots(1, 2, figsize=(16, 6))\n",
        "\n",
        "# Барплот\n",
        "ticker_counts.plot(kind='bar', ax=axes[0], color='steelblue')\n",
        "axes[0].set_title('Количество торговых дней по тикерам', fontsize=14, fontweight='bold')\n",
        "axes[0].set_xlabel('Тикер')\n",
        "axes[0].set_ylabel('Количество записей')\n",
        "axes[0].tick_params(axis='x', rotation=45)\n",
        "axes[0].grid(True, alpha=0.3)\n",
        "\n",
        "# Таблица со статистикой\n",
        "axes[1].axis('off')\n",
        "table_data = []\n",
        "for ticker in sorted(tickers):\n",
        "    ticker_df = df[df['ticker'] == ticker]\n",
        "    table_data.append([\n",
        "        ticker,\n",
        "        len(ticker_df),\n",
        "        ticker_df['begin'].min().strftime('%Y-%m-%d'),\n",
        "        ticker_df['begin'].max().strftime('%Y-%m-%d')\n",
        "    ])\n",
        "\n",
        "table = axes[1].table(cellText=table_data,\n",
        "                      colLabels=['Тикер', 'Записей', 'Начало', 'Конец'],\n",
        "                      cellLoc='center', loc='center',\n",
        "                      colColours=['lightgray']*4)\n",
        "table.auto_set_font_size(False)\n",
        "table.set_fontsize(9)\n",
        "table.scale(1, 2)\n",
        "axes[1].set_title('Временные периоды по тикерам', fontsize=14, fontweight='bold', pad=20)\n",
        "\n",
        "plt.tight_layout()\n",
        "plt.show()\n",
        "\n",
        "print(\"\\nСтатистика по тикерам:\")\n",
        "print(ticker_counts.describe())\n"
      ]
    },
    {
      "cell_type": "markdown",
      "metadata": {},
      "source": [
        "## 4. Временной анализ\n"
      ]
    },
    {
      "cell_type": "code",
      "execution_count": null,
      "metadata": {},
      "outputs": [],
      "source": [
        "# Анализ временных периодов\n",
        "print(f\"Общий период данных: {df['begin'].min().date()} - {df['begin'].max().date()}\")\n",
        "print(f\"Длительность: {(df['begin'].max() - df['begin'].min()).days} дней\")\n",
        "\n",
        "# Количество записей по времени\n",
        "df['year'] = df['begin'].dt.year\n",
        "df['month'] = df['begin'].dt.month\n",
        "df['year_month'] = df['begin'].dt.to_period('M')\n",
        "\n",
        "# Графики временных рядов\n",
        "fig, axes = plt.subplots(2, 1, figsize=(16, 10))\n",
        "\n",
        "# Количество записей по месяцам\n",
        "monthly_counts = df.groupby('year_month').size()\n",
        "monthly_counts.plot(ax=axes[0], marker='o', linewidth=2, color='darkblue')\n",
        "axes[0].set_title('Количество записей по месяцам', fontsize=14, fontweight='bold')\n",
        "axes[0].set_xlabel('Период')\n",
        "axes[0].set_ylabel('Количество записей')\n",
        "axes[0].grid(True, alpha=0.3)\n",
        "\n",
        "# Количество уникальных тикеров по месяцам\n",
        "monthly_tickers = df.groupby('year_month')['ticker'].nunique()\n",
        "monthly_tickers.plot(ax=axes[1], marker='s', linewidth=2, color='darkgreen')\n",
        "axes[1].set_title('Количество активных тикеров по месяцам', fontsize=14, fontweight='bold')\n",
        "axes[1].set_xlabel('Период')\n",
        "axes[1].set_ylabel('Количество тикеров')\n",
        "axes[1].grid(True, alpha=0.3)\n",
        "\n",
        "plt.tight_layout()\n",
        "plt.show()\n"
      ]
    },
    {
      "cell_type": "markdown",
      "metadata": {},
      "source": [
        "## 5. Анализ цен\n"
      ]
    },
    {
      "cell_type": "code",
      "execution_count": null,
      "metadata": {},
      "outputs": [],
      "source": [
        "# Статистика по ценам\n",
        "print(\"=== Статистика по ценам ===\")\n",
        "print(df[['open', 'close', 'high', 'low']].describe())\n",
        "\n",
        "# Графики цен для каждого тикера\n",
        "n_tickers = len(tickers)\n",
        "n_cols = 3\n",
        "n_rows = (n_tickers + n_cols - 1) // n_cols\n",
        "\n",
        "fig, axes = plt.subplots(n_rows, n_cols, figsize=(18, n_rows*4))\n",
        "axes = axes.flatten() if n_tickers > 1 else [axes]\n",
        "\n",
        "for idx, ticker in enumerate(sorted(tickers)):\n",
        "    ticker_df = df[df['ticker'] == ticker].sort_values('begin')\n",
        "    ax = axes[idx]\n",
        "\n",
        "    ax.plot(ticker_df['begin'], ticker_df['close'], label='Close', linewidth=2, alpha=0.8)\n",
        "    ax.fill_between(ticker_df['begin'], ticker_df['low'], ticker_df['high'],\n",
        "                     alpha=0.2, label='High-Low Range')\n",
        "\n",
        "    ax.set_title(f'{ticker} - Цена закрытия и диапазон High-Low', fontweight='bold')\n",
        "    ax.set_xlabel('Дата')\n",
        "    ax.set_ylabel('Цена')\n",
        "    ax.legend(loc='best')\n",
        "    ax.grid(True, alpha=0.3)\n",
        "    ax.tick_params(axis='x', rotation=45)\n",
        "\n",
        "# Скрыть лишние subplot'ы\n",
        "for idx in range(n_tickers, len(axes)):\n",
        "    axes[idx].set_visible(False)\n",
        "\n",
        "plt.tight_layout()\n",
        "plt.show()\n"
      ]
    },
    {
      "cell_type": "markdown",
      "metadata": {},
      "source": [
        "## 6. Анализ доходности\n"
      ]
    },
    {
      "cell_type": "code",
      "execution_count": null,
      "metadata": {},
      "outputs": [],
      "source": [
        "# Расчет дневной доходности\n",
        "df['daily_return'] = df.groupby('ticker')['close'].pct_change()\n",
        "df['intraday_return'] = (df['close'] - df['open']) / df['open']\n",
        "\n",
        "print(\"=== Статистика доходности ===\")\n",
        "print(df[['daily_return', 'intraday_return']].describe())\n"
      ]
    },
    {
      "cell_type": "code",
      "execution_count": null,
      "metadata": {},
      "outputs": [],
      "source": [
        "# Распределение доходностей\n",
        "fig, axes = plt.subplots(2, 2, figsize=(16, 12))\n",
        "\n",
        "# Дневная доходность - гистограмма\n",
        "df['daily_return'].dropna().hist(bins=100, ax=axes[0, 0], edgecolor='black', alpha=0.7)\n",
        "axes[0, 0].set_title('Распределение дневной доходности (все тикеры)', fontweight='bold')\n",
        "axes[0, 0].set_xlabel('Доходность')\n",
        "axes[0, 0].set_ylabel('Частота')\n",
        "axes[0, 0].axvline(0, color='red', linestyle='--', linewidth=2, label='0')\n",
        "axes[0, 0].legend()\n",
        "axes[0, 0].grid(True, alpha=0.3)\n",
        "\n",
        "# Внутридневная доходность - гистограмма\n",
        "df['intraday_return'].dropna().hist(bins=100, ax=axes[0, 1], edgecolor='black', alpha=0.7, color='orange')\n",
        "axes[0, 1].set_title('Распределение внутридневной доходности (все тикеры)', fontweight='bold')\n",
        "axes[0, 1].set_xlabel('Доходность')\n",
        "axes[0, 1].set_ylabel('Частота')\n",
        "axes[0, 1].axvline(0, color='red', linestyle='--', linewidth=2, label='0')\n",
        "axes[0, 1].legend()\n",
        "axes[0, 1].grid(True, alpha=0.3)\n",
        "\n",
        "# Boxplot по тикерам - дневная доходность\n",
        "df.boxplot(column='daily_return', by='ticker', ax=axes[1, 0])\n",
        "axes[1, 0].set_title('Распределение дневной доходности по тикерам', fontweight='bold')\n",
        "axes[1, 0].set_xlabel('Тикер')\n",
        "axes[1, 0].set_ylabel('Доходность')\n",
        "axes[1, 0].axhline(0, color='red', linestyle='--', linewidth=1)\n",
        "plt.sca(axes[1, 0])\n",
        "plt.xticks(rotation=45)\n",
        "\n",
        "# Boxplot по тикерам - внутридневная доходность\n",
        "df.boxplot(column='intraday_return', by='ticker', ax=axes[1, 1])\n",
        "axes[1, 1].set_title('Распределение внутридневной доходности по тикерам', fontweight='bold')\n",
        "axes[1, 1].set_xlabel('Тикер')\n",
        "axes[1, 1].set_ylabel('Доходность')\n",
        "axes[1, 1].axhline(0, color='red', linestyle='--', linewidth=1)\n",
        "plt.sca(axes[1, 1])\n",
        "plt.xticks(rotation=45)\n",
        "\n",
        "plt.tight_layout()\n",
        "plt.show()\n"
      ]
    },
    {
      "cell_type": "code",
      "execution_count": null,
      "metadata": {},
      "outputs": [],
      "source": [
        "# Статистика доходности по тикерам\n",
        "returns_stats = df.groupby('ticker')['daily_return'].agg([\n",
        "    ('mean', 'mean'),\n",
        "    ('std', 'std'),\n",
        "    ('min', 'min'),\n",
        "    ('max', 'max'),\n",
        "    ('median', 'median')\n",
        "]).round(4)\n",
        "\n",
        "returns_stats.columns = ['Средняя', 'Ст. откл.', 'Минимум', 'Максимум', 'Медиана']\n",
        "print(\"\\n=== Статистика дневной доходности по тикерам ===\")\n",
        "print(returns_stats)\n",
        "\n",
        "# Визуализация\n",
        "fig, axes = plt.subplots(1, 2, figsize=(16, 5))\n",
        "\n",
        "returns_stats['Средняя'].plot(kind='bar', ax=axes[0], color='green', alpha=0.7)\n",
        "axes[0].set_title('Средняя дневная доходность по тикерам', fontweight='bold')\n",
        "axes[0].set_ylabel('Доходность')\n",
        "axes[0].axhline(0, color='red', linestyle='--', linewidth=1)\n",
        "axes[0].tick_params(axis='x', rotation=45)\n",
        "axes[0].grid(True, alpha=0.3)\n",
        "\n",
        "returns_stats['Ст. откл.'].plot(kind='bar', ax=axes[1], color='red', alpha=0.7)\n",
        "axes[1].set_title('Волатильность (стандартное отклонение) по тикерам', fontweight='bold')\n",
        "axes[1].set_ylabel('Ст. отклонение')\n",
        "axes[1].tick_params(axis='x', rotation=45)\n",
        "axes[1].grid(True, alpha=0.3)\n",
        "\n",
        "plt.tight_layout()\n",
        "plt.show()\n"
      ]
    },
    {
      "cell_type": "markdown",
      "metadata": {},
      "source": [
        "## 7. Анализ объемов торгов\n"
      ]
    },
    {
      "cell_type": "code",
      "execution_count": null,
      "metadata": {},
      "outputs": [],
      "source": [
        "# Статистика по объемам\n",
        "print(\"=== Статистика по объемам торгов ===\")\n",
        "print(df['volume'].describe())\n",
        "\n",
        "volume_stats = df.groupby('ticker')['volume'].agg([\n",
        "    ('mean', 'mean'),\n",
        "    ('median', 'median'),\n",
        "    ('std', 'std'),\n",
        "    ('min', 'min'),\n",
        "    ('max', 'max')\n",
        "]).round(0)\n",
        "\n",
        "print(\"\\n=== Объемы торгов по тикерам ===\")\n",
        "print(volume_stats)\n"
      ]
    },
    {
      "cell_type": "code",
      "execution_count": null,
      "metadata": {},
      "outputs": [],
      "source": [
        "# Визуализация объемов\n",
        "fig, axes = plt.subplots(2, 2, figsize=(16, 12))\n",
        "\n",
        "# Распределение объемов\n",
        "df['volume'].hist(bins=100, ax=axes[0, 0], edgecolor='black', alpha=0.7)\n",
        "axes[0, 0].set_title('Распределение объемов торгов (все тикеры)', fontweight='bold')\n",
        "axes[0, 0].set_xlabel('Объем')\n",
        "axes[0, 0].set_ylabel('Частота')\n",
        "axes[0, 0].grid(True, alpha=0.3)\n",
        "\n",
        "# Логарифм объемов (для лучшей визуализации)\n",
        "df['log_volume'] = np.log1p(df['volume'])\n",
        "df['log_volume'].hist(bins=100, ax=axes[0, 1], edgecolor='black', alpha=0.7, color='orange')\n",
        "axes[0, 1].set_title('Распределение log(объемов)', fontweight='bold')\n",
        "axes[0, 1].set_xlabel('log(Объем)')\n",
        "axes[0, 1].set_ylabel('Частота')\n",
        "axes[0, 1].grid(True, alpha=0.3)\n",
        "\n",
        "# Средний объем по тикерам\n",
        "volume_stats['mean'].plot(kind='bar', ax=axes[1, 0], color='steelblue', alpha=0.7)\n",
        "axes[1, 0].set_title('Средний объем торгов по тикерам', fontweight='bold')\n",
        "axes[1, 0].set_ylabel('Объем')\n",
        "axes[1, 0].tick_params(axis='x', rotation=45)\n",
        "axes[1, 0].grid(True, alpha=0.3)\n",
        "\n",
        "# Boxplot объемов по тикерам\n",
        "df.boxplot(column='volume', by='ticker', ax=axes[1, 1])\n",
        "axes[1, 1].set_title('Распределение объемов по тикерам', fontweight='bold')\n",
        "axes[1, 1].set_xlabel('Тикер')\n",
        "axes[1, 1].set_ylabel('Объем')\n",
        "plt.sca(axes[1, 1])\n",
        "plt.xticks(rotation=45)\n",
        "\n",
        "plt.tight_layout()\n",
        "plt.show()\n"
      ]
    },
    {
      "cell_type": "markdown",
      "metadata": {},
      "source": [
        "## 8. Анализ волатильности\n"
      ]
    },
    {
      "cell_type": "code",
      "execution_count": null,
      "metadata": {},
      "outputs": [],
      "source": [
        "# Расчет различных мер волатильности\n",
        "df['price_range'] = df['high'] - df['low']\n",
        "df['price_range_pct'] = (df['high'] - df['low']) / df['low'] * 100\n",
        "\n",
        "# Скользящая волатильность (окно 20 дней)\n",
        "df['rolling_volatility'] = df.groupby('ticker')['daily_return'].transform(\n",
        "    lambda x: x.rolling(window=20, min_periods=1).std()\n",
        ")\n",
        "\n",
        "print(\"=== Статистика волатильности ===\")\n",
        "print(df[['price_range', 'price_range_pct', 'rolling_volatility']].describe())\n"
      ]
    },
    {
      "cell_type": "code",
      "execution_count": null,
      "metadata": {},
      "outputs": [],
      "source": [
        "# Визуализация волатильности\n",
        "fig, axes = plt.subplots(2, 1, figsize=(16, 10))\n",
        "\n",
        "# Средняя волатильность по тикерам\n",
        "volatility_by_ticker = df.groupby('ticker')['rolling_volatility'].mean().sort_values(ascending=False)\n",
        "volatility_by_ticker.plot(kind='bar', ax=axes[0], color='purple', alpha=0.7)\n",
        "axes[0].set_title('Средняя волатильность (20-дневная) по тикерам', fontweight='bold')\n",
        "axes[0].set_ylabel('Волатильность')\n",
        "axes[0].tick_params(axis='x', rotation=45)\n",
        "axes[0].grid(True, alpha=0.3)\n",
        "\n",
        "# Временной ряд волатильности для всех тикеров\n",
        "for ticker in sorted(tickers):\n",
        "    ticker_df = df[df['ticker'] == ticker].sort_values('begin')\n",
        "    axes[1].plot(ticker_df['begin'], ticker_df['rolling_volatility'],\n",
        "                label=ticker, alpha=0.7, linewidth=1.5)\n",
        "\n",
        "axes[1].set_title('Временной ряд волатильности (20-дневная) по тикерам', fontweight='bold')\n",
        "axes[1].set_xlabel('Дата')\n",
        "axes[1].set_ylabel('Волатильность')\n",
        "axes[1].legend(loc='best', ncol=3)\n",
        "axes[1].grid(True, alpha=0.3)\n",
        "\n",
        "plt.tight_layout()\n",
        "plt.show()\n"
      ]
    },
    {
      "cell_type": "markdown",
      "metadata": {},
      "source": [
        "## 9. Корреляционный анализ\n"
      ]
    },
    {
      "cell_type": "code",
      "execution_count": null,
      "metadata": {},
      "outputs": [],
      "source": [
        "# Создаем pivot таблицу с ценами закрытия\n",
        "pivot_close = df.pivot_table(index='begin', columns='ticker', values='close', aggfunc='mean')\n",
        "\n",
        "# Расчет корреляций\n",
        "correlation_matrix = pivot_close.corr()\n",
        "\n",
        "# Визуализация\n",
        "fig, ax = plt.subplots(figsize=(12, 10))\n",
        "sns.heatmap(correlation_matrix, annot=True, fmt='.2f', cmap='coolwarm',\n",
        "            center=0, square=True, linewidths=1, cbar_kws={\"shrink\": 0.8}, ax=ax)\n",
        "ax.set_title('Корреляционная матрица цен закрытия', fontsize=14, fontweight='bold', pad=20)\n",
        "plt.tight_layout()\n",
        "plt.show()\n",
        "\n",
        "print(\"\\n=== Корреляционная матрица ===\")\n",
        "print(correlation_matrix)\n"
      ]
    },
    {
      "cell_type": "code",
      "execution_count": null,
      "metadata": {},
      "outputs": [],
      "source": [
        "# Корреляция доходностей\n",
        "pivot_returns = df.pivot_table(index='begin', columns='ticker', values='daily_return', aggfunc='mean')\n",
        "returns_correlation = pivot_returns.corr()\n",
        "\n",
        "fig, ax = plt.subplots(figsize=(12, 10))\n",
        "sns.heatmap(returns_correlation, annot=True, fmt='.2f', cmap='coolwarm',\n",
        "            center=0, square=True, linewidths=1, cbar_kws={\"shrink\": 0.8}, ax=ax)\n",
        "ax.set_title('Корреляционная матрица доходностей', fontsize=14, fontweight='bold', pad=20)\n",
        "plt.tight_layout()\n",
        "plt.show()\n",
        "\n",
        "print(\"\\n=== Корреляционная матрица доходностей ===\")\n",
        "print(returns_correlation)\n"
      ]
    },
    {
      "cell_type": "markdown",
      "metadata": {},
      "source": [
        "## 10. Итоговая сводка\n"
      ]
    },
    {
      "cell_type": "code",
      "execution_count": null,
      "metadata": {},
      "outputs": [],
      "source": [
        "print(\"=\"*80)\n",
        "print(\"ИТОГОВАЯ СВОДКА ПО ДАННЫМ\")\n",
        "print(\"=\"*80)\n",
        "\n",
        "print(f\"\\n📊 Общая информация:\")\n",
        "print(f\"  - Всего записей: {len(df):,}\")\n",
        "print(f\"  - Количество тикеров: {len(tickers)}\")\n",
        "print(f\"  - Период данных: {df['begin'].min().date()} - {df['begin'].max().date()}\")\n",
        "print(f\"  - Длительность: {(df['begin'].max() - df['begin'].min()).days} дней\")\n",
        "\n",
        "print(f\"\\n📈 Тикеры:\")\n",
        "print(f\"  {', '.join(sorted(tickers))}\")\n",
        "\n",
        "print(f\"\\n💰 Ценовая статистика:\")\n",
        "print(f\"  - Минимальная цена: {df['low'].min():.2f}\")\n",
        "print(f\"  - Максимальная цена: {df['high'].max():.2f}\")\n",
        "print(f\"  - Средняя цена закрытия: {df['close'].mean():.2f}\")\n",
        "\n",
        "print(f\"\\n📊 Доходность:\")\n",
        "print(f\"  - Средняя дневная доходность: {df['daily_return'].mean()*100:.4f}%\")\n",
        "print(f\"  - Стандартное отклонение: {df['daily_return'].std()*100:.4f}%\")\n",
        "print(f\"  - Минимальная доходность: {df['daily_return'].min()*100:.2f}%\")\n",
        "print(f\"  - Максимальная доходность: {df['daily_return'].max()*100:.2f}%\")\n",
        "\n",
        "print(f\"\\n📦 Объемы торгов:\")\n",
        "print(f\"  - Средний объем: {df['volume'].mean():,.0f}\")\n",
        "print(f\"  - Медианный объем: {df['volume'].median():,.0f}\")\n",
        "print(f\"  - Максимальный объем: {df['volume'].max():,.0f}\")\n",
        "\n",
        "print(f\"\\n⚡ Волатильность:\")\n",
        "for ticker in sorted(tickers):\n",
        "    ticker_vol = df[df['ticker'] == ticker]['rolling_volatility'].mean()\n",
        "    print(f\"  - {ticker}: {ticker_vol*100:.4f}%\")\n",
        "\n",
        "print(f\"\\n✅ Качество данных:\")\n",
        "print(f\"  - Пропущенные значения: {df.isnull().sum().sum()}\")\n",
        "print(f\"  - Дубликаты: {df.duplicated().sum()}\")\n",
        "\n",
        "print(\"\\n\" + \"=\"*80)\n"
      ]
    }
  ],
  "metadata": {
    "kernelspec": {
      "display_name": ".venv",
      "language": "python",
      "name": "python3"
    },
    "language_info": {
      "name": "python",
      "version": "3.12.3"
    }
  },
  "nbformat": 4,
  "nbformat_minor": 2
}
